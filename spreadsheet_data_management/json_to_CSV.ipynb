{
 "cells": [
  {
   "cell_type": "markdown",
   "metadata": {},
   "source": [
    "This is a Jupyter Notebook for mapping the JSON outputs from FHS to CSV format. This is to produce spreadsheets from database queries that are more user-friendly within our deep learning programs. The large cell below reads in a JSON file and then produces a CSV where each row is a unique subject's MRI date, and the columns can be specified according to the keys present in the JSON file. "
   ]
  },
  {
   "cell_type": "code",
   "execution_count": 39,
   "metadata": {},
   "outputs": [],
   "source": [
    "import json\n",
    "import pandas as pd"
   ]
  },
  {
   "cell_type": "code",
   "execution_count": 59,
   "metadata": {},
   "outputs": [],
   "source": [
    "#this is a script to create a structured dataframe from raw JSON outputs from FHS; columns may be adjusted \n",
    "#as needed\n",
    "\n",
    "file='remap_(35)_[38]_20210924_16_29_41_0330_has_tscript_and_nearby_mri.json'\n",
    "\n",
    "with open(file,'r') as f:\n",
    "    data = json.loads(f.read())\n",
    "\n",
    "ids=[]\n",
    "dates=[]\n",
    "\n",
    "dem_subtype=[]\n",
    "neuroml_mri_dir=[]\n",
    "\n",
    "for key in data.keys():\n",
    "    for i in range(len(data[key])):\n",
    "        ids.append(data[key][i]['id'])\n",
    "        dates.append(data[key][i]['date'])\n",
    "        dem_subtype.append(data[key][i]['dem_subtype'])\n",
    "        neuroml_mri_dir.append(data[key][i]['neuroml_mri_dir'])\n",
    "        \n",
    "\n",
    "df=pd.DataFrame(columns=['id','date','dem_subtype','neuroml_mri_dir'])\n",
    "df['id']=ids\n",
    "df['date']=dates\n",
    "df['dem_subtype']=dem_subtype\n",
    "df['neuroml_mri_dir']=neuroml_mri_dir"
   ]
  },
  {
   "cell_type": "markdown",
   "metadata": {},
   "source": [
    "The cell below is an auxiliary function that maps the original MRI file path listed in the JSON to the location of its corresponding MNI-normalized NIFTI. For the full preprocessing pipeline that produced the MNI-normalized scan, please see elsewhere in the *MRI_preprocessing directory"
   ]
  },
  {
   "cell_type": "code",
   "execution_count": 80,
   "metadata": {},
   "outputs": [],
   "source": [
    "\n",
    "def remap_mri(x):\n",
    "    base='/encryptedfs/data/mri_data/voice_pts/vkola_2021_06_17/t1_mpr_niftis/MNI_brains/'\n",
    "    id_date=x.split('/')[-1]\n",
    "    \n",
    "    #now attach appropriate MNI prefix and nifti suffix\n",
    "    mni_padding='T1_MNI_brain_'+id_date+'_t1_mpr_sag.nii'\n",
    "    \n",
    "    #now with full path\n",
    "    full_path=base+mni_padding\n",
    "    \n",
    "    return full_path"
   ]
  },
  {
   "cell_type": "code",
   "execution_count": 85,
   "metadata": {},
   "outputs": [],
   "source": [
    "df['to_MNI_normalized_mri']=df['neuroml_mri_dir'].apply(lambda x:remap_mri(x))"
   ]
  },
  {
   "cell_type": "code",
   "execution_count": 87,
   "metadata": {},
   "outputs": [],
   "source": [
    "df.to_csv('OCTOBER22_MNI_NORMALIZED_VOICEPTS.csv')"
   ]
  },
  {
   "cell_type": "code",
   "execution_count": null,
   "metadata": {},
   "outputs": [],
   "source": []
  }
 ],
 "metadata": {
  "kernelspec": {
   "display_name": "Python 3",
   "language": "python",
   "name": "python3"
  },
  "language_info": {
   "codemirror_mode": {
    "name": "ipython",
    "version": 3
   },
   "file_extension": ".py",
   "mimetype": "text/x-python",
   "name": "python",
   "nbconvert_exporter": "python",
   "pygments_lexer": "ipython3",
   "version": "3.7.4"
  }
 },
 "nbformat": 4,
 "nbformat_minor": 2
}
